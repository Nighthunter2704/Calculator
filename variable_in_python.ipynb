{
  "nbformat": 4,
  "nbformat_minor": 0,
  "metadata": {
    "colab": {
      "provenance": [],
      "authorship_tag": "ABX9TyPSj5Rv+l312bwB6ZqJ96uf",
      "include_colab_link": true
    },
    "kernelspec": {
      "name": "python3",
      "display_name": "Python 3"
    },
    "language_info": {
      "name": "python"
    }
  },
  "cells": [
    {
      "cell_type": "markdown",
      "metadata": {
        "id": "view-in-github",
        "colab_type": "text"
      },
      "source": [
        "<a href=\"https://colab.research.google.com/github/Nighthunter2704/Calculator/blob/main/variable_in_python.ipynb\" target=\"_parent\"><img src=\"https://colab.research.google.com/assets/colab-badge.svg\" alt=\"Open In Colab\"/></a>"
      ]
    },
    {
      "cell_type": "code",
      "execution_count": 14,
      "metadata": {
        "colab": {
          "base_uri": "https://localhost:8080/"
        },
        "id": "nuCl2uWdxMRK",
        "outputId": "0b656f07-bfc8-440f-e824-eacfccf09d46"
      },
      "outputs": [
        {
          "output_type": "stream",
          "name": "stdout",
          "text": [
            "Mr. Skywalker\n"
          ]
        }
      ],
      "source": [
        "name = \"Mr. Skywalker\"\n",
        "print (name)"
      ]
    },
    {
      "cell_type": "code",
      "source": [
        "#using str we are defining that name is an string\n",
        "name = str(\"Mr. Skywalker\")\n",
        "print (name)\n",
        "type(name)"
      ],
      "metadata": {
        "colab": {
          "base_uri": "https://localhost:8080/"
        },
        "id": "uV7J46sm2Nul",
        "outputId": "afdfb1b9-c87e-460d-b825-d9ca8bbaf7a2"
      },
      "execution_count": 15,
      "outputs": [
        {
          "output_type": "stream",
          "name": "stdout",
          "text": [
            "Mr. Skywalker\n"
          ]
        },
        {
          "output_type": "execute_result",
          "data": {
            "text/plain": [
              "str"
            ]
          },
          "metadata": {},
          "execution_count": 15
        }
      ]
    },
    {
      "cell_type": "code",
      "source": [
        "name = \"Darth Vader\"\n",
        "print (name)\n",
        "age = 44\n",
        "print (age)"
      ],
      "metadata": {
        "colab": {
          "base_uri": "https://localhost:8080/"
        },
        "id": "YteLFLEx4NDU",
        "outputId": "6fe07f73-50da-414f-e229-601190b7c977"
      },
      "execution_count": 17,
      "outputs": [
        {
          "output_type": "stream",
          "name": "stdout",
          "text": [
            "Darth Vader\n",
            "44\n"
          ]
        }
      ]
    },
    {
      "cell_type": "code",
      "source": [
        "#it shows that it is a integer\n",
        "age = 44\n",
        "print (age)\n",
        "type(age)"
      ],
      "metadata": {
        "colab": {
          "base_uri": "https://localhost:8080/"
        },
        "id": "YRcRiYE_2SuK",
        "outputId": "b92d60ae-a95a-490e-b94e-906ac6410660"
      },
      "execution_count": 16,
      "outputs": [
        {
          "output_type": "stream",
          "name": "stdout",
          "text": [
            "44\n"
          ]
        },
        {
          "output_type": "execute_result",
          "data": {
            "text/plain": [
              "int"
            ]
          },
          "metadata": {},
          "execution_count": 16
        }
      ]
    },
    {
      "cell_type": "code",
      "source": [
        "#boolean data type\n",
        "bool_example = True\n",
        "print (bool_example)\n",
        "type(bool_example)"
      ],
      "metadata": {
        "colab": {
          "base_uri": "https://localhost:8080/"
        },
        "id": "IGfs3e6g5MNk",
        "outputId": "c641d48f-bfeb-4010-ee74-1e8a14eed926"
      },
      "execution_count": 18,
      "outputs": [
        {
          "output_type": "stream",
          "name": "stdout",
          "text": [
            "True\n"
          ]
        },
        {
          "output_type": "execute_result",
          "data": {
            "text/plain": [
              "bool"
            ]
          },
          "metadata": {},
          "execution_count": 18
        }
      ]
    },
    {
      "cell_type": "code",
      "source": [
        "#float data type\n",
        "pi=3.14\n",
        "print(pi)\n",
        "type(pi)"
      ],
      "metadata": {
        "colab": {
          "base_uri": "https://localhost:8080/"
        },
        "id": "63awXLWb5lZo",
        "outputId": "51536e11-b834-489a-914f-6463cb33f964"
      },
      "execution_count": 19,
      "outputs": [
        {
          "output_type": "stream",
          "name": "stdout",
          "text": [
            "3.14\n"
          ]
        },
        {
          "output_type": "execute_result",
          "data": {
            "text/plain": [
              "float"
            ]
          },
          "metadata": {},
          "execution_count": 19
        }
      ]
    },
    {
      "cell_type": "markdown",
      "source": [],
      "metadata": {
        "id": "WLlmhZLY6d2x"
      }
    },
    {
      "cell_type": "code",
      "source": [
        "#data type excercise\n",
        "i_can_not_do_it= False\n",
        "print(i_can_not_do_it)\n",
        "answer = 42.01\n",
        "print (answer)"
      ],
      "metadata": {
        "colab": {
          "base_uri": "https://localhost:8080/"
        },
        "id": "vy08iP516m8v",
        "outputId": "10ec0f53-895d-469a-e043-f0b3f12b0b7e"
      },
      "execution_count": 20,
      "outputs": [
        {
          "output_type": "stream",
          "name": "stdout",
          "text": [
            "False\n",
            "42.01\n"
          ]
        }
      ]
    }
  ]
}